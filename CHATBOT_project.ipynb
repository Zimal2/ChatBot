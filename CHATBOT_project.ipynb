{
 "cells": [
  {
   "cell_type": "code",
   "execution_count": null,
   "id": "e0e90c4e",
   "metadata": {
    "scrolled": true
   },
   "outputs": [
    {
     "name": "stdout",
     "output_type": "stream",
     "text": [
      "User Query: joke?\n",
      "Chatbot Response:\n",
      "Category: Entertainment\n",
      "Response: Why don't scientists trust atoms? Because they make up everything!\n",
      "User Query: bake a cake?\n",
      "Chatbot Response:\n",
      "Category: Cooking\n",
      "Response: To bake a chocolate cake, you'll need ingredients such as flour, sugar, cocoa powder, eggs, and butter.\n"
     ]
    }
   ],
   "source": [
    "from sklearn.feature_extraction.text import TfidfVectorizer\n",
    "from sklearn.neighbors import KNeighborsClassifier\n",
    "import json\n",
    "\n",
    "# Load dataset from JSON file\n",
    "def load_dataset_from_json(file_path):\n",
    "    with open(file_path, \"r\") as file:\n",
    "        dataset = json.load(file)\n",
    "    return dataset\n",
    "\n",
    "# Path to the JSON file\n",
    "json_file_path = \"dataset.json\"\n",
    "\n",
    "# Load dataset\n",
    "dataset = load_dataset_from_json(json_file_path)\n",
    "\n",
    "# Preprocessing and feature extraction\n",
    "corpus = [data[\"query\"] for data in dataset]\n",
    "vectorizer = TfidfVectorizer()\n",
    "X = vectorizer.fit_transform(corpus)\n",
    "\n",
    "# Labels for KNN\n",
    "y = [data[\"category\"] for data in dataset]\n",
    "\n",
    "# Determine the number of neighbors\n",
    "k = min(3, len(dataset))  # Number of neighbors\n",
    "\n",
    "# KNN classifier\n",
    "knn_classifier = KNeighborsClassifier(n_neighbors=k)\n",
    "knn_classifier.fit(X, y)\n",
    "\n",
    "# Chatbot interaction\n",
    "while True:\n",
    "    query = input(\"User Query: \")\n",
    "    if query.lower() == \"exit\":\n",
    "        break\n",
    "\n",
    "    query_vector = vectorizer.transform([query])\n",
    "    predicted_category = knn_classifier.predict(query_vector)[0]\n",
    "\n",
    "    # Get the response answer for the predicted category\n",
    "    response = [data[\"response\"] for data in dataset if data[\"category\"] == predicted_category][0]\n",
    "    print(\"Chatbot Response:\")\n",
    "    print(\"Category:\", predicted_category)\n",
    "    print(\"Response:\", response)\n"
   ]
  },
  {
   "cell_type": "code",
   "execution_count": null,
   "id": "adbc1a4b",
   "metadata": {},
   "outputs": [],
   "source": []
  },
  {
   "cell_type": "code",
   "execution_count": null,
   "id": "a36ad8f1",
   "metadata": {},
   "outputs": [],
   "source": []
  },
  {
   "cell_type": "code",
   "execution_count": null,
   "id": "ff9eaf30",
   "metadata": {},
   "outputs": [],
   "source": []
  }
 ],
 "metadata": {
  "kernelspec": {
   "display_name": "Python 3 (ipykernel)",
   "language": "python",
   "name": "python3"
  },
  "language_info": {
   "codemirror_mode": {
    "name": "ipython",
    "version": 3
   },
   "file_extension": ".py",
   "mimetype": "text/x-python",
   "name": "python",
   "nbconvert_exporter": "python",
   "pygments_lexer": "ipython3",
   "version": "3.11.1"
  }
 },
 "nbformat": 4,
 "nbformat_minor": 5
}
